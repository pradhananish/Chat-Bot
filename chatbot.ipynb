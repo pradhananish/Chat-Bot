{
 "cells": [
  {
   "cell_type": "code",
   "execution_count": 20,
   "id": "4e7e5ae2",
   "metadata": {},
   "outputs": [],
   "source": [
    "import numpy as np\n",
    "import pandas as pd\n",
    "import tensorflow as tf\n",
    "import nltk\n"
   ]
  },
  {
   "cell_type": "code",
   "execution_count": 21,
   "id": "0be0c05b",
   "metadata": {},
   "outputs": [],
   "source": [
    "#in our case it is not a zip file so we used tarfile\n",
    "import tarfile\n",
    "\n",
    "# Open the tar.gz file\n",
    "with tarfile.open(\"rsics_dataset.tar.gz\", \"r:gz\") as tar:\n",
    "    # Extract the contents to a temporary directory or read the specific file you need\n",
    "    tar.extractall()"
   ]
  },
  {
   "cell_type": "code",
   "execution_count": 34,
   "id": "5ec28cb6",
   "metadata": {},
   "outputs": [],
   "source": [
    "#import glob\n",
    "#specifying the directory\n",
    "#directory_path = r\"C:\\Users\\ASUS\\Desktop\\ml\\chatbot\\dataset.xlsx\"\n",
    "\n",
    "#file_list=glob.glob(directory_path)\n",
    "#comnined_data=pd.DataFrame()\n",
    "\n",
    "#for file_path in file_list:\n",
    "    #read excel file into dataframe\n",
    "#    df=pd.read_excel(file_path)\n",
    "    \n",
    "    #combining the dataframe\n",
    "#    combined_data=combined_data.append(df, ignore_index=True)\n",
    "    \n",
    "#print(combined_data.head())\n",
    "    \n",
    "    "
   ]
  },
  {
   "cell_type": "code",
   "execution_count": 33,
   "id": "edc2f9ec",
   "metadata": {},
   "outputs": [
    {
     "name": "stdout",
     "output_type": "stream",
     "text": [
      "An error occurred: [Errno 2] No such file or directory: '1_1_align'\n"
     ]
    }
   ],
   "source": [
    "import pandas as pd\n",
    "import glob\n",
    "\n",
    "directory_path = r\"C:\\Users\\ASUS\\Desktop\\dataset.xlsx\"\n",
    "\n",
    "try:\n",
    "    df = pd.read_excel('1_1_align')\n",
    "    print(df.head())\n",
    "except Exception as e:\n",
    "    print(f\"An error occurred: {e}\")\n"
   ]
  },
  {
   "cell_type": "code",
   "execution_count": null,
   "id": "e0e00c2e",
   "metadata": {},
   "outputs": [],
   "source": []
  },
  {
   "cell_type": "code",
   "execution_count": null,
   "id": "9b70f1d9",
   "metadata": {},
   "outputs": [],
   "source": []
  }
 ],
 "metadata": {
  "kernelspec": {
   "display_name": "Python 3 (ipykernel)",
   "language": "python",
   "name": "python3"
  },
  "language_info": {
   "codemirror_mode": {
    "name": "ipython",
    "version": 3
   },
   "file_extension": ".py",
   "mimetype": "text/x-python",
   "name": "python",
   "nbconvert_exporter": "python",
   "pygments_lexer": "ipython3",
   "version": "3.11.5"
  }
 },
 "nbformat": 4,
 "nbformat_minor": 5
}
